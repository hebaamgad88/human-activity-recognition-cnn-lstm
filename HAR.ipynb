{
 "cells": [
  {
   "cell_type": "code",
   "execution_count": 4,
   "id": "b01a15ee-784e-45f9-a6e7-01bf65e2d057",
   "metadata": {},
   "outputs": [],
   "source": [
    "import os\n",
    "import numpy as np\n",
    "import pandas as pd\n",
    "import tensorflow as tf\n",
    "from tensorflow.keras.models import Sequential\n",
    "from tensorflow.keras.layers import Conv1D, MaxPooling1D, LSTM, Dense, Dropout, Flatten\n",
    "from sklearn.model_selection import train_test_split\n",
    "from sklearn.preprocessing import LabelEncoder, StandardScaler\n",
    "\n"
   ]
  },
  {
   "cell_type": "code",
   "execution_count": 5,
   "id": "98153c17-e559-4136-8ec8-b9550c0ce411",
   "metadata": {},
   "outputs": [],
   "source": [
    "# Define dataset path\n",
    "data_dir = r\"C:\\Users\\abdal\\Downloads\\human+activity+recognition+using+smartphones\\UCI HAR Dataset\\UCI HAR Dataset\"\n",
    "\n",
    "# Load data\n",
    "X_train = pd.read_csv(os.path.join(data_dir, \"train\", \"X_train.txt\"), delim_whitespace=True, header=None)\n",
    "X_test = pd.read_csv(os.path.join(data_dir, \"test\", \"X_test.txt\"), delim_whitespace=True, header=None)\n",
    "y_train = pd.read_csv(os.path.join(data_dir, \"train\", \"y_train.txt\"), delim_whitespace=True, header=None)\n",
    "y_test = pd.read_csv(os.path.join(data_dir, \"test\", \"y_test.txt\"), delim_whitespace=True, header=None)\n",
    "\n"
   ]
  },
  {
   "cell_type": "code",
   "execution_count": 6,
   "id": "530587fb-31e3-4d47-9ae7-6d23bdff114c",
   "metadata": {},
   "outputs": [],
   "source": [
    "# Standardize data\n",
    "scaler = StandardScaler()\n",
    "X_train = scaler.fit_transform(X_train)\n",
    "X_test = scaler.transform(X_test)\n",
    "\n",
    "# Reshape input data for CNN-LSTM model\n",
    "X_train = X_train.reshape(X_train.shape[0], X_train.shape[1], 1)\n",
    "X_test = X_test.reshape(X_test.shape[0], X_test.shape[1], 1)\n",
    "\n",
    "# Encode labels\n",
    "label_encoder = LabelEncoder()\n",
    "y_train = label_encoder.fit_transform(y_train.values.ravel())\n",
    "y_test = label_encoder.transform(y_test.values.ravel())\n",
    "\n"
   ]
  },
  {
   "cell_type": "code",
   "execution_count": 7,
   "id": "398e498b-540a-4c33-9876-704fd68e1500",
   "metadata": {},
   "outputs": [],
   "source": [
    "# Convert labels to categorical\n",
    "num_classes = len(np.unique(y_train))\n",
    "y_train = tf.keras.utils.to_categorical(y_train, num_classes)\n",
    "y_test = tf.keras.utils.to_categorical(y_test, num_classes)\n",
    "\n"
   ]
  },
  {
   "cell_type": "code",
   "execution_count": 10,
   "id": "48eb1acb-c5fb-466b-9c3a-61d61507b4b9",
   "metadata": {},
   "outputs": [
    {
     "name": "stdout",
     "output_type": "stream",
     "text": [
      "Epoch 1/10\n",
      "115/115 [==============================] - 60s 487ms/step - loss: 1.2475 - accuracy: 0.3779 - val_loss: 1.0296 - val_accuracy: 0.4917\n",
      "Epoch 2/10\n",
      "115/115 [==============================] - 48s 416ms/step - loss: 1.0174 - accuracy: 0.5079 - val_loss: 0.9054 - val_accuracy: 0.5640\n",
      "Epoch 3/10\n",
      "115/115 [==============================] - 59s 515ms/step - loss: 0.9141 - accuracy: 0.5646 - val_loss: 0.8234 - val_accuracy: 0.6037\n",
      "Epoch 4/10\n",
      "115/115 [==============================] - 57s 494ms/step - loss: 0.8467 - accuracy: 0.6027 - val_loss: 0.8586 - val_accuracy: 0.5969\n",
      "Epoch 5/10\n",
      "115/115 [==============================] - 51s 441ms/step - loss: 0.8068 - accuracy: 0.6240 - val_loss: 0.8120 - val_accuracy: 0.6040\n",
      "Epoch 6/10\n",
      "115/115 [==============================] - 50s 431ms/step - loss: 0.7795 - accuracy: 0.6428 - val_loss: 0.7644 - val_accuracy: 0.6457\n",
      "Epoch 7/10\n",
      "115/115 [==============================] - 49s 423ms/step - loss: 0.7555 - accuracy: 0.6474 - val_loss: 0.7407 - val_accuracy: 0.6566\n",
      "Epoch 8/10\n",
      "115/115 [==============================] - 48s 421ms/step - loss: 0.7251 - accuracy: 0.6613 - val_loss: 0.8160 - val_accuracy: 0.6345\n",
      "Epoch 9/10\n",
      "115/115 [==============================] - 49s 424ms/step - loss: 0.7303 - accuracy: 0.6624 - val_loss: 0.7417 - val_accuracy: 0.6549\n",
      "Epoch 10/10\n",
      "115/115 [==============================] - 54s 467ms/step - loss: 0.7113 - accuracy: 0.6730 - val_loss: 0.7323 - val_accuracy: 0.6461\n"
     ]
    }
   ],
   "source": [
    "# Build CNN-LSTM model\n",
    "model = Sequential([\n",
    "    Conv1D(filters=64, kernel_size=3, activation='relu', input_shape=(X_train.shape[1], 1)),\n",
    "    MaxPooling1D(pool_size=2),\n",
    "    Dropout(0.2),\n",
    "    \n",
    "    Conv1D(filters=128, kernel_size=3, activation='relu'),\n",
    "    MaxPooling1D(pool_size=2),\n",
    "    Dropout(0.2),\n",
    "    \n",
    "    LSTM(100, return_sequences=True),\n",
    "    LSTM(100),\n",
    "    \n",
    "    Dense(64, activation='relu'),\n",
    "    Dropout(0.5),\n",
    "    Dense(num_classes, activation='softmax')\n",
    "])\n",
    "\n",
    "# Compile model\n",
    "model.compile(loss='categorical_crossentropy', optimizer='adam', metrics=['accuracy'])\n",
    "\n",
    "# Train model\n",
    "history = model.fit(X_train, y_train, epochs=10, batch_size=64, validation_data=(X_test, y_test))\n",
    "\n"
   ]
  },
  {
   "cell_type": "code",
   "execution_count": 11,
   "id": "aa92df83-7eaf-4696-be03-81e86631405f",
   "metadata": {},
   "outputs": [
    {
     "name": "stdout",
     "output_type": "stream",
     "text": [
      "93/93 [==============================] - 5s 53ms/step - loss: 0.7323 - accuracy: 0.6461\n",
      "Test Accuracy: 0.6461\n"
     ]
    }
   ],
   "source": [
    "# Evaluate model\n",
    "test_loss, test_acc = model.evaluate(X_test, y_test)\n",
    "print(f\"Test Accuracy: {test_acc:.4f}\")\n"
   ]
  },
  {
   "cell_type": "code",
   "execution_count": null,
   "id": "e4a86cb4-3de2-4f6b-803a-79755c2e7177",
   "metadata": {},
   "outputs": [],
   "source": []
  }
 ],
 "metadata": {
  "kernelspec": {
   "display_name": "Python 3 (ipykernel)",
   "language": "python",
   "name": "python3"
  },
  "language_info": {
   "codemirror_mode": {
    "name": "ipython",
    "version": 3
   },
   "file_extension": ".py",
   "mimetype": "text/x-python",
   "name": "python",
   "nbconvert_exporter": "python",
   "pygments_lexer": "ipython3",
   "version": "3.8.19"
  }
 },
 "nbformat": 4,
 "nbformat_minor": 5
}
